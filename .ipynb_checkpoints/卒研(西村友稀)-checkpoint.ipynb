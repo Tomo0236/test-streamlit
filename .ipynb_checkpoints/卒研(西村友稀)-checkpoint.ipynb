{
 "cells": [
  {
   "cell_type": "code",
   "execution_count": 2,
   "id": "705f94e1",
   "metadata": {},
   "outputs": [
    {
     "name": "stdout",
     "output_type": "stream",
     "text": [
      "Requirement already satisfied: pulp in c:\\users\\user\\anaconda3\\envs\\koidelabo\\lib\\site-packages (2.6.0)\n"
     ]
    }
   ],
   "source": [
    "!pip install pulp"
   ]
  },
  {
   "cell_type": "code",
   "execution_count": 39,
   "id": "02fcfc5b",
   "metadata": {},
   "outputs": [
    {
     "ename": "TypeError",
     "evalue": "int() argument must be a string, a bytes-like object or a number, not 'dict'",
     "output_type": "error",
     "traceback": [
      "\u001b[1;31m---------------------------------------------------------------------------\u001b[0m",
      "\u001b[1;31mTypeError\u001b[0m                                 Traceback (most recent call last)",
      "Input \u001b[1;32mIn [39]\u001b[0m, in \u001b[0;36m<cell line: 83>\u001b[1;34m()\u001b[0m\n\u001b[0;32m     81\u001b[0m \u001b[38;5;66;03m#最適化の実行\u001b[39;00m\n\u001b[0;32m     82\u001b[0m model\u001b[38;5;241m.\u001b[39msolve()\n\u001b[1;32m---> 83\u001b[0m \u001b[38;5;28mprint\u001b[39m(\u001b[38;5;28;43mint\u001b[39;49m\u001b[43m(\u001b[49m\u001b[43mv\u001b[49m\u001b[43m)\u001b[49m)\n\u001b[0;32m     84\u001b[0m \u001b[38;5;28mprint\u001b[39m(w)\n\u001b[0;32m     85\u001b[0m \u001b[38;5;28mprint\u001b[39m(z)\n",
      "\u001b[1;31mTypeError\u001b[0m: int() argument must be a string, a bytes-like object or a number, not 'dict'"
     ]
    }
   ],
   "source": [
    "from pulp import *\n",
    "from openpyxl import *\n",
    "\n",
    "#Excelファイル・シートを開く\n",
    "book = load_workbook('卒研_データ.xlsx')\n",
    "sheet1 = book['入力値']\n",
    "sheet2 = book['確認']\n",
    "sheet3 = book['出力値']\n",
    "\n",
    "#定数用のデータの作成\n",
    "I = [i+1 for i in range(9)]\n",
    "J = [i+1 for i in range(4)]\n",
    "T = [i+1 for i in range(8)]\n",
    "n = 0\n",
    "m = 0\n",
    "\n",
    "a = {}    \n",
    "for i in I:\n",
    "    for t in T:\n",
    "        a[i, t] = sheet1.cell(row=3+i, column=1+t).value      \n",
    "    \n",
    "#空問題の作成\n",
    "model = LpProblem('Shift', sense=LpMinimize)\n",
    "\n",
    "#決定変数の作成\n",
    "x = {}\n",
    "for i in I:\n",
    "    for j in J:\n",
    "        for t in T:\n",
    "            x[i, j, t] = LpVariable(f'x{i},{j},{t}', cat=LpBinary)\n",
    "v = {}\n",
    "for i in I:\n",
    "    v[i] = LpVariable(f'v{i}', lowBound=0)\n",
    "w = {}\n",
    "for i in I:\n",
    "    for t in T:\n",
    "        w[i, t] = LpVariable(f'w{i}, {t}', cat=LpBinary)\n",
    "z = {}\n",
    "for i in I:\n",
    "    for t in T:\n",
    "        z[i, t] = LpVariable(f'z{i}, {t}', cat=LpBinary)\n",
    "\n",
    "#制約条件の追加\n",
    "\n",
    "#条件①\n",
    "for j in J:\n",
    "    for t in T:\n",
    "        model += lpSum(x[i, j, t] for i in I) == 1\n",
    "#条件②\n",
    "for i in I:\n",
    "    for t in T:\n",
    "        model += lpSum(x[i, j, t] for j in J) <= 1\n",
    "#条件③\n",
    "for i in I:\n",
    "    for t in T:\n",
    "        if a[i, t] == 0:\n",
    "            for j in J:\n",
    "                model += x[i, j, t] == 0\n",
    "#条件⑥\n",
    "for i in I:\n",
    "    for t in T:\n",
    "        if a[i, t] == 2:\n",
    "            model += lpSum(x[i, j, t] for j in J) == 0 + w[i, t]\n",
    "        if w[i, 1] == 1:\n",
    "            m += 1\n",
    "    sheet2.cell(row=9+i, column=12).value = m\n",
    "    m = 0\n",
    "#条件④\n",
    "s = (len(J) * len(T)) / len(I)\n",
    "for i in I:\n",
    "    model += lpSum(x[i, j, t] for j in J for t in T) >= s - v[i]\n",
    "    model += lpSum(x[i, j, t] for j in J for t in T) <= s + v[i]\n",
    "#条件⑤\n",
    "for i in I:\n",
    "    for t in range(len(T)-1):\n",
    "        model += lpSum(x[i, j, t+1] for j in J) + lpSum(x[i, j, t+2] for j in J) <= 1 + z[i, t+1]\n",
    "        \n",
    "#目的関数の設定\n",
    "model +=lpSum(v[i] for i in I) + lpSum(w[i, t] for i in I for t in T) + lpSum(z[i, t] for i in I for t in T)\n",
    "\n",
    "#最適化の実行\n",
    "model.solve()\n",
    "print(v)\n",
    "print(w)\n",
    "print(z)\n",
    "\n",
    "#最適化の結果出力\n",
    "if LpStatus[model.status] == 'Optimal':\n",
    "    print('最適値 =', value(model.objective))\n",
    "    I_Name = {1:'西村', 2:'松野', 3:'大屋', 4:'牛尾', 5:'田中', 6:'押見', 7:'出口', 8:'伊藤', 9:'藤木'}\n",
    "    for i in I:\n",
    "        for j in J:\n",
    "            for t in T:\n",
    "                if value(x[i, j, t]) > 0.01:\n",
    "                    sheet2.cell(row=2+j, column=1+t).value = I_Name[i]    #出力値に名前を出力\n",
    "                    sheet3.cell(row=2+j, column=1+t).value = I_Name[i]    #シフト表に名前を入力\n",
    "    print(z[i, t])   \n",
    "   # for i in I:\n",
    "    #    for t in T:\n",
    "     #       if z[i, t] == 1:\n",
    "      #          n += 1\n",
    "       #     #print(z[i, t])\n",
    "        #sheet2.cell(row=9+i, column=11).value = n\n",
    "        #n = 0\n",
    "    book.save('卒研_データ_1.xlsx')\n",
    "else:\n",
    "    print('最適解が求まりませんでした。')"
   ]
  },
  {
   "cell_type": "code",
   "execution_count": null,
   "id": "349995a2",
   "metadata": {},
   "outputs": [],
   "source": []
  }
 ],
 "metadata": {
  "kernelspec": {
   "display_name": "Python 3 (ipykernel)",
   "language": "python",
   "name": "python3"
  },
  "language_info": {
   "codemirror_mode": {
    "name": "ipython",
    "version": 3
   },
   "file_extension": ".py",
   "mimetype": "text/x-python",
   "name": "python",
   "nbconvert_exporter": "python",
   "pygments_lexer": "ipython3",
   "version": "3.9.12"
  }
 },
 "nbformat": 4,
 "nbformat_minor": 5
}
