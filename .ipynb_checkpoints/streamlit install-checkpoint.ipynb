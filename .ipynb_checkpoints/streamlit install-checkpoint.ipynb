{
 "cells": [
  {
   "cell_type": "code",
   "execution_count": 1,
   "id": "009ee8f9",
   "metadata": {},
   "outputs": [
    {
     "name": "stdout",
     "output_type": "stream",
     "text": [
      "Requirement already satisfied: streamlit in c:\\users\\user\\anaconda3\\envs\\koidelabo\\lib\\site-packages (1.24.0)Note: you may need to restart the kernel to use updated packages.\n",
      "Requirement already satisfied: click<9,>=7.0 in c:\\users\\user\\anaconda3\\envs\\koidelabo\\lib\\site-packages (from streamlit) (8.1.3)\n",
      "Requirement already satisfied: blinker<2,>=1.0.0 in c:\\users\\user\\anaconda3\\envs\\koidelabo\\lib\\site-packages (from streamlit) (1.6.2)\n",
      "Requirement already satisfied: gitpython!=3.1.19,<4,>=3 in c:\\users\\user\\anaconda3\\envs\\koidelabo\\lib\\site-packages (from streamlit) (3.1.31)\n",
      "\n",
      "Requirement already satisfied: validators<1,>=0.2 in c:\\users\\user\\anaconda3\\envs\\koidelabo\\lib\\site-packages (from streamlit) (0.20.0)\n",
      "Requirement already satisfied: pydeck<1,>=0.1.dev5 in c:\\users\\user\\anaconda3\\envs\\koidelabo\\lib\\site-packages (from streamlit) (0.8.1b0)\n",
      "Requirement already satisfied: pillow<10,>=6.2.0 in c:\\users\\user\\anaconda3\\envs\\koidelabo\\lib\\site-packages (from streamlit) (9.0.1)\n",
      "Requirement already satisfied: pympler<2,>=0.9 in c:\\users\\user\\anaconda3\\envs\\koidelabo\\lib\\site-packages (from streamlit) (1.0.1)\n",
      "Requirement already satisfied: tzlocal<5,>=1.1 in c:\\users\\user\\anaconda3\\envs\\koidelabo\\lib\\site-packages (from streamlit) (4.3.1)\n",
      "Requirement already satisfied: requests<3,>=2.4 in c:\\users\\user\\anaconda3\\envs\\koidelabo\\lib\\site-packages (from streamlit) (2.31.0)\n",
      "Requirement already satisfied: packaging<24,>=14.1 in c:\\users\\user\\anaconda3\\envs\\koidelabo\\lib\\site-packages (from streamlit) (21.3)\n",
      "Requirement already satisfied: altair<6,>=4.0 in c:\\users\\user\\anaconda3\\envs\\koidelabo\\lib\\site-packages (from streamlit) (5.0.1)\n",
      "Requirement already satisfied: tenacity<9,>=8.0.0 in c:\\users\\user\\anaconda3\\envs\\koidelabo\\lib\\site-packages (from streamlit) (8.2.2)\n",
      "Requirement already satisfied: toml<2 in c:\\users\\user\\anaconda3\\envs\\koidelabo\\lib\\site-packages (from streamlit) (0.10.2)\n",
      "Requirement already satisfied: cachetools<6,>=4.0 in c:\\users\\user\\anaconda3\\envs\\koidelabo\\lib\\site-packages (from streamlit) (5.3.1)\n",
      "Requirement already satisfied: protobuf<5,>=3.20 in c:\\users\\user\\anaconda3\\envs\\koidelabo\\lib\\site-packages (from streamlit) (4.23.3)\n",
      "Requirement already satisfied: typing-extensions<5,>=4.0.1 in c:\\users\\user\\anaconda3\\envs\\koidelabo\\lib\\site-packages (from streamlit) (4.1.1)\n",
      "Requirement already satisfied: pyarrow>=4.0 in c:\\users\\user\\anaconda3\\envs\\koidelabo\\lib\\site-packages (from streamlit) (12.0.1)\n",
      "Requirement already satisfied: pandas<3,>=0.25 in c:\\users\\user\\anaconda3\\envs\\koidelabo\\lib\\site-packages (from streamlit) (1.4.4)\n",
      "Requirement already satisfied: tornado<7,>=6.0.3 in c:\\users\\user\\anaconda3\\envs\\koidelabo\\lib\\site-packages (from streamlit) (6.1)\n",
      "Requirement already satisfied: importlib-metadata<7,>=1.4 in c:\\users\\user\\anaconda3\\envs\\koidelabo\\lib\\site-packages (from streamlit) (6.7.0)\n",
      "Requirement already satisfied: numpy<2,>=1 in c:\\users\\user\\anaconda3\\envs\\koidelabo\\lib\\site-packages (from streamlit) (1.22.3)\n",
      "Requirement already satisfied: watchdog in c:\\users\\user\\anaconda3\\envs\\koidelabo\\lib\\site-packages (from streamlit) (3.0.0)\n",
      "Requirement already satisfied: rich<14,>=10.11.0 in c:\\users\\user\\anaconda3\\envs\\koidelabo\\lib\\site-packages (from streamlit) (13.4.2)\n",
      "Requirement already satisfied: python-dateutil<3,>=2 in c:\\users\\user\\anaconda3\\envs\\koidelabo\\lib\\site-packages (from streamlit) (2.8.2)\n",
      "Requirement already satisfied: jinja2 in c:\\users\\user\\anaconda3\\envs\\koidelabo\\lib\\site-packages (from altair<6,>=4.0->streamlit) (3.0.3)\n",
      "Requirement already satisfied: toolz in c:\\users\\user\\anaconda3\\envs\\koidelabo\\lib\\site-packages (from altair<6,>=4.0->streamlit) (0.12.0)\n",
      "Requirement already satisfied: jsonschema>=3.0 in c:\\users\\user\\anaconda3\\envs\\koidelabo\\lib\\site-packages (from altair<6,>=4.0->streamlit) (4.4.0)\n",
      "Requirement already satisfied: colorama in c:\\users\\user\\anaconda3\\envs\\koidelabo\\lib\\site-packages (from click<9,>=7.0->streamlit) (0.4.4)\n",
      "Requirement already satisfied: gitdb<5,>=4.0.1 in c:\\users\\user\\anaconda3\\envs\\koidelabo\\lib\\site-packages (from gitpython!=3.1.19,<4,>=3->streamlit) (4.0.10)\n",
      "Requirement already satisfied: smmap<6,>=3.0.1 in c:\\users\\user\\anaconda3\\envs\\koidelabo\\lib\\site-packages (from gitdb<5,>=4.0.1->gitpython!=3.1.19,<4,>=3->streamlit) (5.0.0)\n",
      "Requirement already satisfied: zipp>=0.5 in c:\\users\\user\\anaconda3\\envs\\koidelabo\\lib\\site-packages (from importlib-metadata<7,>=1.4->streamlit) (3.15.0)\n",
      "Requirement already satisfied: attrs>=17.4.0 in c:\\users\\user\\anaconda3\\envs\\koidelabo\\lib\\site-packages (from jsonschema>=3.0->altair<6,>=4.0->streamlit) (21.4.0)\n",
      "Requirement already satisfied: pyrsistent!=0.17.0,!=0.17.1,!=0.17.2,>=0.14.0 in c:\\users\\user\\anaconda3\\envs\\koidelabo\\lib\\site-packages (from jsonschema>=3.0->altair<6,>=4.0->streamlit) (0.18.0)\n",
      "Requirement already satisfied: pyparsing!=3.0.5,>=2.0.2 in c:\\users\\user\\anaconda3\\envs\\koidelabo\\lib\\site-packages (from packaging<24,>=14.1->streamlit) (3.0.4)\n",
      "Requirement already satisfied: pytz>=2020.1 in c:\\users\\user\\anaconda3\\envs\\koidelabo\\lib\\site-packages (from pandas<3,>=0.25->streamlit) (2022.1)\n",
      "Requirement already satisfied: MarkupSafe>=2.0 in c:\\users\\user\\anaconda3\\envs\\koidelabo\\lib\\site-packages (from jinja2->altair<6,>=4.0->streamlit) (2.1.1)\n",
      "Requirement already satisfied: six>=1.5 in c:\\users\\user\\anaconda3\\envs\\koidelabo\\lib\\site-packages (from python-dateutil<3,>=2->streamlit) (1.16.0)\n",
      "Requirement already satisfied: charset-normalizer<4,>=2 in c:\\users\\user\\anaconda3\\envs\\koidelabo\\lib\\site-packages (from requests<3,>=2.4->streamlit) (3.1.0)\n",
      "Requirement already satisfied: idna<4,>=2.5 in c:\\users\\user\\anaconda3\\envs\\koidelabo\\lib\\site-packages (from requests<3,>=2.4->streamlit) (3.4)\n",
      "Requirement already satisfied: urllib3<3,>=1.21.1 in c:\\users\\user\\anaconda3\\envs\\koidelabo\\lib\\site-packages (from requests<3,>=2.4->streamlit) (2.0.3)\n",
      "Requirement already satisfied: certifi>=2017.4.17 in c:\\users\\user\\anaconda3\\envs\\koidelabo\\lib\\site-packages (from requests<3,>=2.4->streamlit) (2022.9.24)\n",
      "Requirement already satisfied: pygments<3.0.0,>=2.13.0 in c:\\users\\user\\anaconda3\\envs\\koidelabo\\lib\\site-packages (from rich<14,>=10.11.0->streamlit) (2.15.1)\n",
      "Requirement already satisfied: markdown-it-py>=2.2.0 in c:\\users\\user\\anaconda3\\envs\\koidelabo\\lib\\site-packages (from rich<14,>=10.11.0->streamlit) (3.0.0)\n",
      "Requirement already satisfied: mdurl~=0.1 in c:\\users\\user\\anaconda3\\envs\\koidelabo\\lib\\site-packages (from markdown-it-py>=2.2.0->rich<14,>=10.11.0->streamlit) (0.1.2)\n",
      "Requirement already satisfied: pytz-deprecation-shim in c:\\users\\user\\anaconda3\\envs\\koidelabo\\lib\\site-packages (from tzlocal<5,>=1.1->streamlit) (0.1.0.post0)\n",
      "Requirement already satisfied: tzdata in c:\\users\\user\\anaconda3\\envs\\koidelabo\\lib\\site-packages (from tzlocal<5,>=1.1->streamlit) (2023.3)\n",
      "Requirement already satisfied: decorator>=3.4.0 in c:\\users\\user\\anaconda3\\envs\\koidelabo\\lib\\site-packages (from validators<1,>=0.2->streamlit) (5.1.1)\n"
     ]
    }
   ],
   "source": [
    "pip install streamlit"
   ]
  },
  {
   "cell_type": "code",
   "execution_count": null,
   "id": "b8b9ea51",
   "metadata": {},
   "outputs": [],
   "source": [
    "pip install pillow"
   ]
  }
 ],
 "metadata": {
  "kernelspec": {
   "display_name": "Python 3 (ipykernel)",
   "language": "python",
   "name": "python3"
  },
  "language_info": {
   "codemirror_mode": {
    "name": "ipython",
    "version": 3
   },
   "file_extension": ".py",
   "mimetype": "text/x-python",
   "name": "python",
   "nbconvert_exporter": "python",
   "pygments_lexer": "ipython3",
   "version": "3.9.12"
  }
 },
 "nbformat": 4,
 "nbformat_minor": 5
}
