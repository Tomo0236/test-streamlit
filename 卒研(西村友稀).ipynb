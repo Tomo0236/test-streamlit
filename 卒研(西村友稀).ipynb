{
 "cells": [
  {
   "cell_type": "code",
   "execution_count": 2,
   "id": "705f94e1",
   "metadata": {},
   "outputs": [
    {
     "name": "stdout",
     "output_type": "stream",
     "text": [
      "Requirement already satisfied: pulp in c:\\users\\user\\anaconda3\\envs\\koidelabo\\lib\\site-packages (2.6.0)\n"
     ]
    }
   ],
   "source": [
    "!pip install pulp"
   ]
  },
  {
   "cell_type": "code",
   "execution_count": 40,
   "id": "02fcfc5b",
   "metadata": {},
   "outputs": [
    {
     "name": "stdout",
     "output_type": "stream",
     "text": [
      "{1: v1, 2: v2, 3: v3, 4: v4, 5: v5, 6: v6, 7: v7, 8: v8, 9: v9}\n",
      "{(1, 1): w1,_1, (1, 2): w1,_2, (1, 3): w1,_3, (1, 4): w1,_4, (1, 5): w1,_5, (1, 6): w1,_6, (1, 7): w1,_7, (1, 8): w1,_8, (2, 1): w2,_1, (2, 2): w2,_2, (2, 3): w2,_3, (2, 4): w2,_4, (2, 5): w2,_5, (2, 6): w2,_6, (2, 7): w2,_7, (2, 8): w2,_8, (3, 1): w3,_1, (3, 2): w3,_2, (3, 3): w3,_3, (3, 4): w3,_4, (3, 5): w3,_5, (3, 6): w3,_6, (3, 7): w3,_7, (3, 8): w3,_8, (4, 1): w4,_1, (4, 2): w4,_2, (4, 3): w4,_3, (4, 4): w4,_4, (4, 5): w4,_5, (4, 6): w4,_6, (4, 7): w4,_7, (4, 8): w4,_8, (5, 1): w5,_1, (5, 2): w5,_2, (5, 3): w5,_3, (5, 4): w5,_4, (5, 5): w5,_5, (5, 6): w5,_6, (5, 7): w5,_7, (5, 8): w5,_8, (6, 1): w6,_1, (6, 2): w6,_2, (6, 3): w6,_3, (6, 4): w6,_4, (6, 5): w6,_5, (6, 6): w6,_6, (6, 7): w6,_7, (6, 8): w6,_8, (7, 1): w7,_1, (7, 2): w7,_2, (7, 3): w7,_3, (7, 4): w7,_4, (7, 5): w7,_5, (7, 6): w7,_6, (7, 7): w7,_7, (7, 8): w7,_8, (8, 1): w8,_1, (8, 2): w8,_2, (8, 3): w8,_3, (8, 4): w8,_4, (8, 5): w8,_5, (8, 6): w8,_6, (8, 7): w8,_7, (8, 8): w8,_8, (9, 1): w9,_1, (9, 2): w9,_2, (9, 3): w9,_3, (9, 4): w9,_4, (9, 5): w9,_5, (9, 6): w9,_6, (9, 7): w9,_7, (9, 8): w9,_8}\n",
      "{(1, 1): z1,_1, (1, 2): z1,_2, (1, 3): z1,_3, (1, 4): z1,_4, (1, 5): z1,_5, (1, 6): z1,_6, (1, 7): z1,_7, (1, 8): z1,_8, (2, 1): z2,_1, (2, 2): z2,_2, (2, 3): z2,_3, (2, 4): z2,_4, (2, 5): z2,_5, (2, 6): z2,_6, (2, 7): z2,_7, (2, 8): z2,_8, (3, 1): z3,_1, (3, 2): z3,_2, (3, 3): z3,_3, (3, 4): z3,_4, (3, 5): z3,_5, (3, 6): z3,_6, (3, 7): z3,_7, (3, 8): z3,_8, (4, 1): z4,_1, (4, 2): z4,_2, (4, 3): z4,_3, (4, 4): z4,_4, (4, 5): z4,_5, (4, 6): z4,_6, (4, 7): z4,_7, (4, 8): z4,_8, (5, 1): z5,_1, (5, 2): z5,_2, (5, 3): z5,_3, (5, 4): z5,_4, (5, 5): z5,_5, (5, 6): z5,_6, (5, 7): z5,_7, (5, 8): z5,_8, (6, 1): z6,_1, (6, 2): z6,_2, (6, 3): z6,_3, (6, 4): z6,_4, (6, 5): z6,_5, (6, 6): z6,_6, (6, 7): z6,_7, (6, 8): z6,_8, (7, 1): z7,_1, (7, 2): z7,_2, (7, 3): z7,_3, (7, 4): z7,_4, (7, 5): z7,_5, (7, 6): z7,_6, (7, 7): z7,_7, (7, 8): z7,_8, (8, 1): z8,_1, (8, 2): z8,_2, (8, 3): z8,_3, (8, 4): z8,_4, (8, 5): z8,_5, (8, 6): z8,_6, (8, 7): z8,_7, (8, 8): z8,_8, (9, 1): z9,_1, (9, 2): z9,_2, (9, 3): z9,_3, (9, 4): z9,_4, (9, 5): z9,_5, (9, 6): z9,_6, (9, 7): z9,_7, (9, 8): z9,_8}\n",
      "最適値 = 12.444444439999998\n",
      "z9,_8\n"
     ]
    }
   ],
   "source": [
    "from pulp import *\n",
    "from openpyxl import *\n",
    "\n",
    "#Excelファイル・シートを開く\n",
    "book = load_workbook('卒研_データ.xlsx')\n",
    "sheet1 = book['入力値']\n",
    "sheet2 = book['確認']\n",
    "sheet3 = book['出力値']\n",
    "\n",
    "#定数用のデータの作成\n",
    "I = [i+1 for i in range(9)]\n",
    "J = [i+1 for i in range(4)]\n",
    "T = [i+1 for i in range(8)]\n",
    "n = 0\n",
    "m = 0\n",
    "\n",
    "a = {}    \n",
    "for i in I:\n",
    "    for t in T:\n",
    "        a[i, t] = sheet1.cell(row=3+i, column=1+t).value      \n",
    "    \n",
    "#空問題の作成\n",
    "model = LpProblem('Shift', sense=LpMinimize)\n",
    "\n",
    "#決定変数の作成\n",
    "x = {}\n",
    "for i in I:\n",
    "    for j in J:\n",
    "        for t in T:\n",
    "            x[i, j, t] = LpVariable(f'x{i},{j},{t}', cat=LpBinary)\n",
    "v = {}\n",
    "for i in I:\n",
    "    v[i] = LpVariable(f'v{i}', lowBound=0)\n",
    "w = {}\n",
    "for i in I:\n",
    "    for t in T:\n",
    "        w[i, t] = LpVariable(f'w{i}, {t}', cat=LpBinary)\n",
    "z = {}\n",
    "for i in I:\n",
    "    for t in T:\n",
    "        z[i, t] = LpVariable(f'z{i}, {t}', cat=LpBinary)\n",
    "\n",
    "#制約条件の追加\n",
    "\n",
    "#条件①\n",
    "for j in J:\n",
    "    for t in T:\n",
    "        model += lpSum(x[i, j, t] for i in I) == 1\n",
    "#条件②\n",
    "for i in I:\n",
    "    for t in T:\n",
    "        model += lpSum(x[i, j, t] for j in J) <= 1\n",
    "#条件③\n",
    "for i in I:\n",
    "    for t in T:\n",
    "        if a[i, t] == 0:\n",
    "            for j in J:\n",
    "                model += x[i, j, t] == 0\n",
    "#条件⑥\n",
    "for i in I:\n",
    "    for t in T:\n",
    "        if a[i, t] == 2:\n",
    "            model += lpSum(x[i, j, t] for j in J) == 0 + w[i, t]\n",
    "        if w[i, 1] == 1:\n",
    "            m += 1\n",
    "    sheet2.cell(row=9+i, column=12).value = m\n",
    "    m = 0\n",
    "#条件④\n",
    "s = (len(J) * len(T)) / len(I)\n",
    "for i in I:\n",
    "    model += lpSum(x[i, j, t] for j in J for t in T) >= s - v[i]\n",
    "    model += lpSum(x[i, j, t] for j in J for t in T) <= s + v[i]\n",
    "#条件⑤\n",
    "for i in I:\n",
    "    for t in range(len(T)-1):\n",
    "        model += lpSum(x[i, j, t+1] for j in J) + lpSum(x[i, j, t+2] for j in J) <= 1 + z[i, t+1]\n",
    "        \n",
    "#目的関数の設定\n",
    "model +=lpSum(v[i] for i in I) + lpSum(w[i, t] for i in I for t in T) + lpSum(z[i, t] for i in I for t in T)\n",
    "\n",
    "#最適化の実行\n",
    "model.solve()\n",
    "print(v)\n",
    "print(w)\n",
    "print(z)\n",
    "\n",
    "#最適化の結果出力\n",
    "if LpStatus[model.status] == 'Optimal':\n",
    "    print('最適値 =', value(model.objective))\n",
    "    I_Name = {1:'西村', 2:'松野', 3:'大屋', 4:'牛尾', 5:'田中', 6:'押見', 7:'出口', 8:'伊藤', 9:'藤木'}\n",
    "    for i in I:\n",
    "        for j in J:\n",
    "            for t in T:\n",
    "                if value(x[i, j, t]) > 0.01:\n",
    "                    sheet2.cell(row=2+j, column=1+t).value = I_Name[i]    #出力値に名前を出力\n",
    "                    sheet3.cell(row=2+j, column=1+t).value = I_Name[i]    #シフト表に名前を入力\n",
    "    print(z[i, t])   \n",
    "   # for i in I:\n",
    "    #    for t in T:\n",
    "     #       if z[i, t] == 1:\n",
    "      #          n += 1\n",
    "       #     #print(z[i, t])\n",
    "        #sheet2.cell(row=9+i, column=11).value = n\n",
    "        #n = 0\n",
    "    book.save('卒研_データ_1.xlsx')\n",
    "else:\n",
    "    print('最適解が求まりませんでした。')"
   ]
  },
  {
   "cell_type": "code",
   "execution_count": null,
   "id": "349995a2",
   "metadata": {},
   "outputs": [],
   "source": []
  }
 ],
 "metadata": {
  "kernelspec": {
   "display_name": "Python 3 (ipykernel)",
   "language": "python",
   "name": "python3"
  },
  "language_info": {
   "codemirror_mode": {
    "name": "ipython",
    "version": 3
   },
   "file_extension": ".py",
   "mimetype": "text/x-python",
   "name": "python",
   "nbconvert_exporter": "python",
   "pygments_lexer": "ipython3",
   "version": "3.9.12"
  }
 },
 "nbformat": 4,
 "nbformat_minor": 5
}
